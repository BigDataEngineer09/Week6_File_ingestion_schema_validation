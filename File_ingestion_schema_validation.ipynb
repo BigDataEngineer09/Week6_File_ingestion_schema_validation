{
 "cells": [
  {
   "cell_type": "code",
   "execution_count": 14,
   "id": "a0836a81-0994-472e-bbde-5e3a0df74217",
   "metadata": {},
   "outputs": [],
   "source": [
    "#pip install -U ipywidgets"
   ]
  },
  {
   "cell_type": "code",
   "execution_count": 15,
   "id": "864a83d3-8845-4644-88eb-af615bbe753f",
   "metadata": {},
   "outputs": [],
   "source": [
    "#!pip install pandas dask modin[ray] PyYAML"
   ]
  },
  {
   "cell_type": "code",
   "execution_count": 20,
   "id": "270d7296-a4f9-47ab-8de4-652afe2d8af8",
   "metadata": {},
   "outputs": [],
   "source": [
    "#pip install psutil"
   ]
  },
  {
   "cell_type": "code",
   "execution_count": 21,
   "id": "828f4802-4cde-4976-845d-d3359bb11b85",
   "metadata": {},
   "outputs": [],
   "source": [
    "#pip install --upgrade ray"
   ]
  },
  {
   "cell_type": "code",
   "execution_count": 1,
   "id": "1f58259f-472f-4e6e-8acf-3755a5995fa2",
   "metadata": {},
   "outputs": [],
   "source": [
    "import pandas as pd\n",
    "import modin.pandas as mpd\n",
    "import ray\n",
    "import time\n",
    "import dask.dataframe as dd\n",
    "import os\n",
    "import re\n",
    "import yaml\n",
    "import psutil"
   ]
  },
  {
   "cell_type": "code",
   "execution_count": 2,
   "id": "ffcb1e28-4934-4193-8a05-2f456322f761",
   "metadata": {},
   "outputs": [
    {
     "name": "stderr",
     "output_type": "stream",
     "text": [
      "2024-05-26 00:04:27,523\tINFO worker.py:1749 -- Started a local Ray instance.\n"
     ]
    },
    {
     "data": {
      "application/vnd.jupyter.widget-view+json": {
       "model_id": "02186525b97846a1953750a5852cc2a1",
       "version_major": 2,
       "version_minor": 0
      },
      "text/html": [
       "<div class=\"lm-Widget p-Widget lm-Panel p-Panel jp-Cell-outputWrapper\">\n",
       "    <div style=\"margin-left: 50px;display: flex;flex-direction: row;align-items: center\">\n",
       "        <div class=\"jp-RenderedHTMLCommon\" style=\"display: flex; flex-direction: row;\">\n",
       "  <svg viewBox=\"0 0 567 224\" fill=\"none\" xmlns=\"http://www.w3.org/2000/svg\" style=\"height: 3em;\">\n",
       "    <g clip-path=\"url(#clip0_4338_178347)\">\n",
       "        <path d=\"M341.29 165.561H355.29L330.13 129.051C345.63 123.991 354.21 112.051 354.21 94.2307C354.21 71.3707 338.72 58.1807 311.88 58.1807H271V165.561H283.27V131.661H311.8C314.25 131.661 316.71 131.501 319.01 131.351L341.25 165.561H341.29ZM283.29 119.851V70.0007H311.82C331.3 70.0007 342.34 78.2907 342.34 94.5507C342.34 111.271 331.34 119.861 311.82 119.861L283.29 119.851ZM451.4 138.411L463.4 165.561H476.74L428.74 58.1807H416L367.83 165.561H380.83L392.83 138.411H451.4ZM446.19 126.601H398L422 72.1407L446.24 126.601H446.19ZM526.11 128.741L566.91 58.1807H554.35L519.99 114.181L485.17 58.1807H472.44L514.01 129.181V165.541H526.13V128.741H526.11Z\" fill=\"var(--jp-ui-font-color0)\"/>\n",
       "        <path d=\"M82.35 104.44C84.0187 97.8827 87.8248 92.0678 93.1671 87.9146C98.5094 83.7614 105.083 81.5067 111.85 81.5067C118.617 81.5067 125.191 83.7614 130.533 87.9146C135.875 92.0678 139.681 97.8827 141.35 104.44H163.75C164.476 101.562 165.622 98.8057 167.15 96.2605L127.45 56.5605C121.071 60.3522 113.526 61.6823 106.235 60.3005C98.9443 58.9187 92.4094 54.9203 87.8602 49.0574C83.3109 43.1946 81.0609 35.8714 81.5332 28.4656C82.0056 21.0599 85.1679 14.0819 90.4252 8.8446C95.6824 3.60726 102.672 0.471508 110.08 0.0272655C117.487 -0.416977 124.802 1.86091 130.647 6.4324C136.493 11.0039 140.467 17.5539 141.821 24.8501C143.175 32.1463 141.816 39.6859 138 46.0505L177.69 85.7505C182.31 82.9877 187.58 81.4995 192.962 81.4375C198.345 81.3755 203.648 82.742 208.33 85.3976C213.012 88.0532 216.907 91.9029 219.616 96.5544C222.326 101.206 223.753 106.492 223.753 111.875C223.753 117.258 222.326 122.545 219.616 127.197C216.907 131.848 213.012 135.698 208.33 138.353C203.648 141.009 198.345 142.375 192.962 142.313C187.58 142.251 182.31 140.763 177.69 138L138 177.7C141.808 184.071 143.155 191.614 141.79 198.91C140.424 206.205 136.44 212.75 130.585 217.313C124.731 221.875 117.412 224.141 110.004 223.683C102.596 223.226 95.6103 220.077 90.3621 214.828C85.1139 209.58 81.9647 202.595 81.5072 195.187C81.0497 187.779 83.3154 180.459 87.878 174.605C92.4405 168.751 98.9853 164.766 106.281 163.401C113.576 162.035 121.119 163.383 127.49 167.19L167.19 127.49C165.664 124.941 164.518 122.182 163.79 119.3H141.39C139.721 125.858 135.915 131.673 130.573 135.826C125.231 139.98 118.657 142.234 111.89 142.234C105.123 142.234 98.5494 139.98 93.2071 135.826C87.8648 131.673 84.0587 125.858 82.39 119.3H60C58.1878 126.495 53.8086 132.78 47.6863 136.971C41.5641 141.163 34.1211 142.972 26.7579 142.059C19.3947 141.146 12.6191 137.574 7.70605 132.014C2.79302 126.454 0.0813599 119.29 0.0813599 111.87C0.0813599 104.451 2.79302 97.2871 7.70605 91.7272C12.6191 86.1673 19.3947 82.5947 26.7579 81.6817C34.1211 80.7686 41.5641 82.5781 47.6863 86.7696C53.8086 90.9611 58.1878 97.2456 60 104.44H82.35ZM100.86 204.32C103.407 206.868 106.759 208.453 110.345 208.806C113.93 209.159 117.527 208.258 120.522 206.256C123.517 204.254 125.725 201.276 126.771 197.828C127.816 194.38 127.633 190.677 126.253 187.349C124.874 184.021 122.383 181.274 119.205 179.577C116.027 177.88 112.359 177.337 108.826 178.042C105.293 178.746 102.113 180.654 99.8291 183.44C97.5451 186.226 96.2979 189.718 96.3 193.32C96.2985 195.364 96.7006 197.388 97.4831 199.275C98.2656 201.163 99.4132 202.877 100.86 204.32ZM204.32 122.88C206.868 120.333 208.453 116.981 208.806 113.396C209.159 109.811 208.258 106.214 206.256 103.219C204.254 100.223 201.275 98.0151 197.827 96.97C194.38 95.9249 190.676 96.1077 187.348 97.4873C184.02 98.8669 181.274 101.358 179.577 104.536C177.879 107.714 177.337 111.382 178.041 114.915C178.746 118.448 180.653 121.627 183.439 123.911C186.226 126.195 189.717 127.443 193.32 127.44C195.364 127.443 197.388 127.042 199.275 126.259C201.163 125.476 202.878 124.328 204.32 122.88ZM122.88 19.4205C120.333 16.8729 116.981 15.2876 113.395 14.9347C109.81 14.5817 106.213 15.483 103.218 17.4849C100.223 19.4868 98.0146 22.4654 96.9696 25.9131C95.9245 29.3608 96.1073 33.0642 97.4869 36.3922C98.8665 39.7202 101.358 42.4668 104.535 44.1639C107.713 45.861 111.381 46.4036 114.914 45.6992C118.447 44.9949 121.627 43.0871 123.911 40.301C126.195 37.515 127.442 34.0231 127.44 30.4205C127.44 28.3772 127.038 26.3539 126.255 24.4664C125.473 22.5788 124.326 20.8642 122.88 19.4205ZM19.42 100.86C16.8725 103.408 15.2872 106.76 14.9342 110.345C14.5813 113.93 15.4826 117.527 17.4844 120.522C19.4863 123.518 22.4649 125.726 25.9127 126.771C29.3604 127.816 33.0638 127.633 36.3918 126.254C39.7198 124.874 42.4664 122.383 44.1635 119.205C45.8606 116.027 46.4032 112.359 45.6988 108.826C44.9944 105.293 43.0866 102.114 40.3006 99.8296C37.5145 97.5455 34.0227 96.2983 30.42 96.3005C26.2938 96.3018 22.337 97.9421 19.42 100.86ZM100.86 100.86C98.3125 103.408 96.7272 106.76 96.3742 110.345C96.0213 113.93 96.9226 117.527 98.9244 120.522C100.926 123.518 103.905 125.726 107.353 126.771C110.8 127.816 114.504 127.633 117.832 126.254C121.16 124.874 123.906 122.383 125.604 119.205C127.301 116.027 127.843 112.359 127.139 108.826C126.434 105.293 124.527 102.114 121.741 99.8296C118.955 97.5455 115.463 96.2983 111.86 96.3005C109.817 96.299 107.793 96.701 105.905 97.4835C104.018 98.2661 102.303 99.4136 100.86 100.86Z\" fill=\"#00AEEF\"/>\n",
       "    </g>\n",
       "    <defs>\n",
       "        <clipPath id=\"clip0_4338_178347\">\n",
       "            <rect width=\"566.93\" height=\"223.75\" fill=\"white\"/>\n",
       "        </clipPath>\n",
       "    </defs>\n",
       "  </svg>\n",
       "</div>\n",
       "\n",
       "        <table class=\"jp-RenderedHTMLCommon\" style=\"border-collapse: collapse;color: var(--jp-ui-font-color1);font-size: var(--jp-ui-font-size1);\">\n",
       "    <tr>\n",
       "        <td style=\"text-align: left\"><b>Python version:</b></td>\n",
       "        <td style=\"text-align: left\"><b>3.11.7</b></td>\n",
       "    </tr>\n",
       "    <tr>\n",
       "        <td style=\"text-align: left\"><b>Ray version:</b></td>\n",
       "        <td style=\"text-align: left\"><b>2.20.0</b></td>\n",
       "    </tr>\n",
       "    \n",
       "</table>\n",
       "\n",
       "    </div>\n",
       "</div>\n"
      ],
      "text/plain": [
       "RayContext(dashboard_url='', python_version='3.11.7', ray_version='2.20.0', ray_commit='5708e75978413e46c703e44f43fd89769f3c148b')"
      ]
     },
     "execution_count": 2,
     "metadata": {},
     "output_type": "execute_result"
    }
   ],
   "source": [
    "ray.init(ignore_reinit_error=True)"
   ]
  },
  {
   "cell_type": "code",
   "execution_count": 17,
   "id": "ed3d2c3a-2682-4dac-bb0a-aca148c244cb",
   "metadata": {},
   "outputs": [],
   "source": [
    "# Step 1: Take any CSV/Text File of 2+ GB"
   ]
  },
  {
   "cell_type": "code",
   "execution_count": 4,
   "id": "9258685b-e903-492f-a38e-0415cffbca3f",
   "metadata": {},
   "outputs": [],
   "source": [
    "file='C:/DDrive/Dataset/Data.json'"
   ]
  },
  {
   "cell_type": "code",
   "execution_count": 22,
   "id": "cb2a9a6d-20b4-4628-8c01-6c56162eec05",
   "metadata": {},
   "outputs": [],
   "source": [
    "#pip install -U ipywidgets"
   ]
  },
  {
   "cell_type": "code",
   "execution_count": 23,
   "id": "4da74099-3916-4091-a96b-c0667ce2ae6c",
   "metadata": {},
   "outputs": [],
   "source": [
    "# Step 2: Read the File (Present Approach of Reading the File)"
   ]
  },
  {
   "cell_type": "code",
   "execution_count": 8,
   "id": "599c81c8-caf6-4f43-9e98-6fd0b598d3af",
   "metadata": {},
   "outputs": [],
   "source": [
    "df = pd.read_json(file,lines=True)"
   ]
  },
  {
   "cell_type": "code",
   "execution_count": 9,
   "id": "c206cb44-e97a-4f58-bf68-5fa7dc4da65b",
   "metadata": {},
   "outputs": [
    {
     "data": {
      "text/html": [
       "<div>\n",
       "<style scoped>\n",
       "    .dataframe tbody tr th:only-of-type {\n",
       "        vertical-align: middle;\n",
       "    }\n",
       "\n",
       "    .dataframe tbody tr th {\n",
       "        vertical-align: top;\n",
       "    }\n",
       "\n",
       "    .dataframe thead th {\n",
       "        text-align: right;\n",
       "    }\n",
       "</style>\n",
       "<table border=\"1\" class=\"dataframe\">\n",
       "  <thead>\n",
       "    <tr style=\"text-align: right;\">\n",
       "      <th></th>\n",
       "      <th>user id</th>\n",
       "      <th>name</th>\n",
       "      <th>review count</th>\n",
       "      <th>yelping since</th>\n",
       "      <th>useful</th>\n",
       "      <th>funny</th>\n",
       "      <th>cool</th>\n",
       "      <th>elite</th>\n",
       "      <th>friends</th>\n",
       "      <th>fans</th>\n",
       "      <th>...</th>\n",
       "      <th>compliment more</th>\n",
       "      <th>compliment profile</th>\n",
       "      <th>compliment cute</th>\n",
       "      <th>compliment list</th>\n",
       "      <th>compliment note</th>\n",
       "      <th>compliment plain</th>\n",
       "      <th>compliment cool</th>\n",
       "      <th>compliment funny</th>\n",
       "      <th>compliment writer</th>\n",
       "      <th>compliment photos</th>\n",
       "    </tr>\n",
       "  </thead>\n",
       "  <tbody>\n",
       "    <tr>\n",
       "      <th>0</th>\n",
       "      <td>m1evbVj4Q-BcO-Xu5VfvEw</td>\n",
       "      <td>Kevin</td>\n",
       "      <td>49</td>\n",
       "      <td>2010-05-20 23:23:59</td>\n",
       "      <td>67</td>\n",
       "      <td>30</td>\n",
       "      <td>23</td>\n",
       "      <td></td>\n",
       "      <td>txGhbn4nZZwCG6QKyU4oug, oMFqDgXcBaOz-V4mK0z1tw...</td>\n",
       "      <td>3</td>\n",
       "      <td>...</td>\n",
       "      <td>1</td>\n",
       "      <td>0</td>\n",
       "      <td>0</td>\n",
       "      <td>0</td>\n",
       "      <td>1</td>\n",
       "      <td>1</td>\n",
       "      <td>1</td>\n",
       "      <td>1</td>\n",
       "      <td>1</td>\n",
       "      <td>1</td>\n",
       "    </tr>\n",
       "    <tr>\n",
       "      <th>1</th>\n",
       "      <td>yOO5Dj4CU-UJsnVxsSpVPg</td>\n",
       "      <td>Lowie</td>\n",
       "      <td>265</td>\n",
       "      <td>2010-08-07 00:07:59</td>\n",
       "      <td>383</td>\n",
       "      <td>144</td>\n",
       "      <td>235</td>\n",
       "      <td>2012,2013</td>\n",
       "      <td>GY6tKv0ZD8wuHCZKN165og, PWrQ5EH-XdX8gaORnfbWKg...</td>\n",
       "      <td>19</td>\n",
       "      <td>...</td>\n",
       "      <td>5</td>\n",
       "      <td>4</td>\n",
       "      <td>2</td>\n",
       "      <td>2</td>\n",
       "      <td>7</td>\n",
       "      <td>21</td>\n",
       "      <td>17</td>\n",
       "      <td>17</td>\n",
       "      <td>14</td>\n",
       "      <td>3</td>\n",
       "    </tr>\n",
       "    <tr>\n",
       "      <th>2</th>\n",
       "      <td>wEE-YMx5pmSuagLtNxMPKA</td>\n",
       "      <td>Stephanie</td>\n",
       "      <td>2000</td>\n",
       "      <td>2007-08-16 13:41:49</td>\n",
       "      <td>38666</td>\n",
       "      <td>20280</td>\n",
       "      <td>28814</td>\n",
       "      <td>2009,2010,2011,2012,2013,2014,2015,2016,2017,2...</td>\n",
       "      <td>SmYoYCF3RVg5gaHeejQFhA, qQ_IOstGA56cnBQ_LxvQXg...</td>\n",
       "      <td>1761</td>\n",
       "      <td>...</td>\n",
       "      <td>168</td>\n",
       "      <td>112</td>\n",
       "      <td>107</td>\n",
       "      <td>64</td>\n",
       "      <td>1637</td>\n",
       "      <td>7431</td>\n",
       "      <td>2954</td>\n",
       "      <td>2954</td>\n",
       "      <td>812</td>\n",
       "      <td>691</td>\n",
       "    </tr>\n",
       "  </tbody>\n",
       "</table>\n",
       "<p>3 rows × 22 columns</p>\n",
       "</div>"
      ],
      "text/plain": [
       "                  user id       name  review count        yelping since  \\\n",
       "0  m1evbVj4Q-BcO-Xu5VfvEw      Kevin            49  2010-05-20 23:23:59   \n",
       "1  yOO5Dj4CU-UJsnVxsSpVPg      Lowie           265  2010-08-07 00:07:59   \n",
       "2  wEE-YMx5pmSuagLtNxMPKA  Stephanie          2000  2007-08-16 13:41:49   \n",
       "\n",
       "   useful  funny   cool                                              elite  \\\n",
       "0      67     30     23                                                      \n",
       "1     383    144    235                                          2012,2013   \n",
       "2   38666  20280  28814  2009,2010,2011,2012,2013,2014,2015,2016,2017,2...   \n",
       "\n",
       "                                             friends  fans  ...  \\\n",
       "0  txGhbn4nZZwCG6QKyU4oug, oMFqDgXcBaOz-V4mK0z1tw...     3  ...   \n",
       "1  GY6tKv0ZD8wuHCZKN165og, PWrQ5EH-XdX8gaORnfbWKg...    19  ...   \n",
       "2  SmYoYCF3RVg5gaHeejQFhA, qQ_IOstGA56cnBQ_LxvQXg...  1761  ...   \n",
       "\n",
       "   compliment more  compliment profile  compliment cute  compliment list  \\\n",
       "0                1                   0                0                0   \n",
       "1                5                   4                2                2   \n",
       "2              168                 112              107               64   \n",
       "\n",
       "   compliment note  compliment plain  compliment cool  compliment funny  \\\n",
       "0                1                 1                1                 1   \n",
       "1                7                21               17                17   \n",
       "2             1637              7431             2954              2954   \n",
       "\n",
       "   compliment writer  compliment photos  \n",
       "0                  1                  1  \n",
       "1                 14                  3  \n",
       "2                812                691  \n",
       "\n",
       "[3 rows x 22 columns]"
      ]
     },
     "execution_count": 9,
     "metadata": {},
     "output_type": "execute_result"
    }
   ],
   "source": [
    "df.head(3)"
   ]
  },
  {
   "cell_type": "code",
   "execution_count": 26,
   "id": "ddd10b53-3d60-4ae6-8830-94baca127edc",
   "metadata": {},
   "outputs": [],
   "source": [
    "# Step 3: Different Methods of File Reading and Present Findings in Terms of Computational Efficiency"
   ]
  },
  {
   "cell_type": "code",
   "execution_count": 5,
   "id": "a2ccffd0-75db-4b1e-a41c-1fa4a0ff77cf",
   "metadata": {},
   "outputs": [
    {
     "name": "stdout",
     "output_type": "stream",
     "text": [
      "  Library  Time (seconds)  Memory Usage (bytes)\n",
      "0  Pandas      194.939918            3445657444\n",
      "1    Dask      372.973100            2955097788\n",
      "2   Modin      124.084744             189960192\n",
      "3     Ray        9.045848            3347825977\n"
     ]
    }
   ],
   "source": [
    "# Measure time and memory usage for different libraries\n",
    "def measure_efficiency(read_func, file_path, is_ray=False):\n",
    "    start_time = time.time()\n",
    "    if is_ray:\n",
    "        df = read_func(file_path)\n",
    "        memory_usage = df.size_bytes()  # Memory usage in bytes for Ray\n",
    "    else:\n",
    "        df = read_func(file_path)\n",
    "        if hasattr(df, 'compute'):\n",
    "            df = df.compute()  # For Dask\n",
    "        memory_usage = df.memory_usage(deep=True).sum() if isinstance(df, pd.DataFrame) else psutil.Process().memory_info().rss\n",
    "    end_time = time.time()\n",
    "    return end_time - start_time, memory_usage\n",
    "\n",
    "# Pandas\n",
    "pandas_time, pandas_memory = measure_efficiency(lambda file: pd.read_json(file, lines=True), file)\n",
    "\n",
    "# Dask\n",
    "dask_time, dask_memory = measure_efficiency(lambda file: dd.read_json(file, lines=True), file)\n",
    "\n",
    "# Modin\n",
    "modin_time, modin_memory = measure_efficiency(lambda file: mpd.read_json(file, lines=True), file)\n",
    "\n",
    "# Ray\n",
    "ray_time, ray_memory = measure_efficiency(ray.data.read_json, file, is_ray=True)\n",
    "\n",
    "# Display results\n",
    "efficiency_comparison = {\n",
    "    'Library': ['Pandas', 'Dask', 'Modin', 'Ray'],\n",
    "    'Time (seconds)': [pandas_time, dask_time, modin_time, ray_time],\n",
    "    'Memory Usage (bytes)': [pandas_memory, dask_memory, modin_memory, ray_memory]\n",
    "}\n",
    "\n",
    "print(pd.DataFrame(efficiency_comparison))"
   ]
  },
  {
   "cell_type": "code",
   "execution_count": null,
   "id": "1d8909a0-4228-4791-9b3f-a48d91462e97",
   "metadata": {},
   "outputs": [],
   "source": [
    "#Step 4: Perform Basic Validation on Data Columns"
   ]
  },
  {
   "cell_type": "code",
   "execution_count": 12,
   "id": "f9ac7883-1a33-4049-8ced-a5f069f4e30d",
   "metadata": {},
   "outputs": [
    {
     "name": "stdout",
     "output_type": "stream",
     "text": [
      "Cleaned column names: Index(['userid', 'name', 'reviewcount', 'yelpingsince', 'useful', 'funny',\n",
      "       'cool', 'elite', 'friends', 'fans', 'averagestars', 'complimenthot',\n",
      "       'complimentmore', 'complimentprofile', 'complimentcute',\n",
      "       'complimentlist', 'complimentnote', 'complimentplain', 'complimentcool',\n",
      "       'complimentfunny', 'complimentwriter', 'complimentphotos'],\n",
      "      dtype='object')\n"
     ]
    }
   ],
   "source": [
    "# Remove special characters and whitespace from column names\n",
    "df.columns = [re.sub(r'\\W+', '', col).strip() for col in df.columns]\n",
    "print(\"Cleaned column names:\", df.columns)\n",
    "\n",
    "# Save the cleaned DataFrame\n",
    "df.to_csv('C:/DDrive/Data/cleaned_large_file.csv', index=False)"
   ]
  },
  {
   "cell_type": "code",
   "execution_count": null,
   "id": "7ef47f2d-4e3f-4a22-9d74-f6cf0f301180",
   "metadata": {},
   "outputs": [],
   "source": [
    "Step 5: Create a YAML File with Schema Information"
   ]
  },
  {
   "cell_type": "code",
   "execution_count": 14,
   "id": "9509a4e7-67e2-4236-a6d2-9e117b6ffbc3",
   "metadata": {},
   "outputs": [
    {
     "name": "stdout",
     "output_type": "stream",
     "text": [
      "Schema written to schema.yaml\n"
     ]
    }
   ],
   "source": [
    "# Generate schema based on the columns\n",
    "schema = {\n",
    "    'input_separator': ',',\n",
    "    'output_separator': '|',\n",
    "    'columns': list(df.columns)\n",
    "}\n",
    "\n",
    "# Write the schema to a YAML file\n",
    "with open('C:/DDrive/Data/schema.yaml', 'w') as file:\n",
    "    yaml.dump(schema, file)\n",
    "\n",
    "print(\"Schema written to schema.yaml\")"
   ]
  },
  {
   "cell_type": "code",
   "execution_count": null,
   "id": "fecd3b25-101e-4592-86e4-a469a3a7b5b5",
   "metadata": {},
   "outputs": [],
   "source": [
    "# Step 6: Validate Number of Columns and Column Names of Ingested File with YAML"
   ]
  },
  {
   "cell_type": "code",
   "execution_count": 16,
   "id": "d7ec0b36-f14d-4154-9cb6-70ebb4c37495",
   "metadata": {},
   "outputs": [
    {
     "name": "stderr",
     "output_type": "stream",
     "text": [
      "DtypeWarning: Columns (8) have mixed types. Specify dtype option on import or set low_memory=False.\n"
     ]
    },
    {
     "name": "stdout",
     "output_type": "stream",
     "text": [
      "Validation successful!\n"
     ]
    }
   ],
   "source": [
    "# Load the YAML schema\n",
    "with open('C:/DDrive/Data/schema.yaml', 'r') as file:\n",
    "    schema = yaml.safe_load(file)\n",
    "\n",
    "# Read the CSV file using the specified separator\n",
    "df = pd.read_csv('C:/DDrive/Data/cleaned_large_file.csv', sep=schema['input_separator'])\n",
    "\n",
    "# Validate the number of columns\n",
    "assert len(df.columns) == len(schema['columns']), f\"Column count does not match. Expected {len(schema['columns'])}, got {len(df.columns)}.\"+üoh\n",
    "\n",
    "# Validate the column names\n",
    "assert all([col in df.columns for col in schema['columns']]), \"Column names do not match.\"\n",
    "\n",
    "print(\"Validation successful!\")"
   ]
  },
  {
   "cell_type": "code",
   "execution_count": null,
   "id": "a3b24a3a-64ed-485c-8731-92a1d2d54c76",
   "metadata": {},
   "outputs": [],
   "source": [
    "# Step 7: Write the File in Pipe-Separated Text Format with Gzip Compression"
   ]
  },
  {
   "cell_type": "code",
   "execution_count": null,
   "id": "60afec42-1324-4403-bf2b-f51c31f87426",
   "metadata": {},
   "outputs": [],
   "source": [
    "df.to_csv('C:/DDrive/Data/cleaned_large_file_pipe_separated.csv.gz', sep='|', compression='gzip', index=False)"
   ]
  },
  {
   "cell_type": "code",
   "execution_count": null,
   "id": "b7b78501-7788-4dc2-8079-920e76dc26ad",
   "metadata": {},
   "outputs": [],
   "source": [
    "# Step 8: Create a Summary of the File"
   ]
  },
  {
   "cell_type": "code",
   "execution_count": 19,
   "id": "29addaf2-09fc-4669-8638-8095fedd0e71",
   "metadata": {},
   "outputs": [
    {
     "name": "stdout",
     "output_type": "stream",
     "text": [
      "{'Total number of rows': 1986595, 'Total number of columns': 22, 'File size (bytes)': 1243473485}\n"
     ]
    }
   ],
   "source": [
    "num_rows, num_cols = df.shape\n",
    "file_size = os.path.getsize('C:/DDrive/Data/cleaned_large_file_pipe_separated.csv.gz')\n",
    "\n",
    "summary = {\n",
    "    'Total number of rows': num_rows,\n",
    "    'Total number of columns': num_cols,\n",
    "    'File size (bytes)': file_size\n",
    "}\n",
    "print(summary)"
   ]
  },
  {
   "cell_type": "code",
   "execution_count": null,
   "id": "985f1e58-aa4e-492c-b479-de49577e5b0b",
   "metadata": {},
   "outputs": [],
   "source": []
  }
 ],
 "metadata": {
  "kernelspec": {
   "display_name": "Python 3 (ipykernel)",
   "language": "python",
   "name": "python3"
  },
  "language_info": {
   "codemirror_mode": {
    "name": "ipython",
    "version": 3
   },
   "file_extension": ".py",
   "mimetype": "text/x-python",
   "name": "python",
   "nbconvert_exporter": "python",
   "pygments_lexer": "ipython3",
   "version": "3.11.7"
  }
 },
 "nbformat": 4,
 "nbformat_minor": 5
}
